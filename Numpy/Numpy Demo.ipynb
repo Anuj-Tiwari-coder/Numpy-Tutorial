{
 "cells": [
  {
   "cell_type": "markdown",
   "id": "c2a84f0f-75b2-4b49-81ab-3c39d8b89089",
   "metadata": {},
   "source": [
    "# Welcome To the Numpy Practice"
   ]
  },
  {
   "cell_type": "code",
   "execution_count": 1,
   "id": "cff4b316-296b-453d-9810-93147fe3f81b",
   "metadata": {},
   "outputs": [],
   "source": [
    "import numpy as np"
   ]
  },
  {
   "cell_type": "code",
   "execution_count": 2,
   "id": "eb218732-fcb9-4dd1-adb0-2319c2ae857c",
   "metadata": {},
   "outputs": [],
   "source": [
    "myarr= np.array([[1, 2, 3, 4, 5, 6, 7, 8, 9, 0]], np.int32)"
   ]
  },
  {
   "cell_type": "code",
   "execution_count": 3,
   "id": "1204362d-3ec5-477f-8205-c5a95322d28e",
   "metadata": {},
   "outputs": [
    {
     "data": {
      "text/plain": [
       "array([[1, 2, 3, 4, 5, 6, 7, 8, 9, 0]])"
      ]
     },
     "execution_count": 3,
     "metadata": {},
     "output_type": "execute_result"
    }
   ],
   "source": [
    "myarr"
   ]
  },
  {
   "cell_type": "code",
   "execution_count": 4,
   "id": "068deb02-4200-45fe-bfa3-779d9e171100",
   "metadata": {},
   "outputs": [
    {
     "data": {
      "text/plain": [
       "5"
      ]
     },
     "execution_count": 4,
     "metadata": {},
     "output_type": "execute_result"
    }
   ],
   "source": [
    "myarr[0,4]"
   ]
  },
  {
   "cell_type": "code",
   "execution_count": 5,
   "id": "ced72dc8-440c-4c04-a66c-4414d92b5af9",
   "metadata": {},
   "outputs": [
    {
     "name": "stdout",
     "output_type": "stream",
     "text": [
      "This refer to data storage\n",
      " int32\n"
     ]
    }
   ],
   "source": [
    "print(\"This refer to data storage\\n\",myarr.dtype)"
   ]
  },
  {
   "cell_type": "code",
   "execution_count": 6,
   "id": "61c05ca9-8ef2-4714-a424-92f39be8b000",
   "metadata": {},
   "outputs": [
    {
     "name": "stdout",
     "output_type": "stream",
     "text": [
      "[[ 1  2  3  4 54  6  7  8  9  0]] \n",
      "this use for change the value of array\n"
     ]
    }
   ],
   "source": [
    "myarr[0,4] = 54 \n",
    "print(myarr, \"\\nthis use for change the value of array\")"
   ]
  },
  {
   "cell_type": "code",
   "execution_count": 7,
   "id": "1466d94a-a89d-4693-84ac-ffc6fb7a9b01",
   "metadata": {},
   "outputs": [
    {
     "data": {
      "text/plain": [
       "array([[ 1,  2,  3,  4, 54,  6,  7,  8,  9,  0]])"
      ]
     },
     "execution_count": 7,
     "metadata": {},
     "output_type": "execute_result"
    }
   ],
   "source": [
    "myarr"
   ]
  },
  {
   "cell_type": "markdown",
   "id": "56a23d7f-c4a3-4aa5-af5c-ce2103fd1208",
   "metadata": {},
   "source": [
    "**Conversion from other Python structures**"
   ]
  },
  {
   "cell_type": "code",
   "execution_count": 8,
   "id": "8dfc141f-f80e-46c3-9c61-73fff581d902",
   "metadata": {},
   "outputs": [],
   "source": [
    "newlist= np.array([[1,2,3] , [4,5,6] , [7,8,9]])"
   ]
  },
  {
   "cell_type": "code",
   "execution_count": 9,
   "id": "96819866-87f0-4894-a0c4-cb24260da1f1",
   "metadata": {},
   "outputs": [
    {
     "data": {
      "text/plain": [
       "array([[1, 2, 3],\n",
       "       [4, 5, 6],\n",
       "       [7, 8, 9]])"
      ]
     },
     "execution_count": 9,
     "metadata": {},
     "output_type": "execute_result"
    }
   ],
   "source": [
    "newlist"
   ]
  },
  {
   "cell_type": "code",
   "execution_count": 10,
   "id": "21d3bb2f-1c49-400a-a625-364841667e86",
   "metadata": {},
   "outputs": [
    {
     "name": "stdout",
     "output_type": "stream",
     "text": [
      "This attrabutes use to define the type of storage\n"
     ]
    },
    {
     "data": {
      "text/plain": [
       "dtype('int32')"
      ]
     },
     "execution_count": 10,
     "metadata": {},
     "output_type": "execute_result"
    }
   ],
   "source": [
    "print(\"This attrabutes use to define the type of storage\")\n",
    "newlist.dtype"
   ]
  },
  {
   "cell_type": "code",
   "execution_count": 11,
   "id": "bc49c885-f725-48d6-bd28-1d2dbd29ff8f",
   "metadata": {},
   "outputs": [
    {
     "name": "stdout",
     "output_type": "stream",
     "text": [
      "this attributes use to define shape\n"
     ]
    },
    {
     "data": {
      "text/plain": [
       "(3, 3)"
      ]
     },
     "execution_count": 11,
     "metadata": {},
     "output_type": "execute_result"
    }
   ],
   "source": [
    "print(\"this attributes use to define shape\")\n",
    "newlist.shape"
   ]
  },
  {
   "cell_type": "code",
   "execution_count": 12,
   "id": "29d7cb31-36ad-4818-b183-c0e836430cad",
   "metadata": {},
   "outputs": [
    {
     "name": "stdout",
     "output_type": "stream",
     "text": [
      "this attrabutes use to show size of the data\n"
     ]
    },
    {
     "data": {
      "text/plain": [
       "9"
      ]
     },
     "execution_count": 12,
     "metadata": {},
     "output_type": "execute_result"
    }
   ],
   "source": [
    "print(\"this attrabutes use to show size of the data\")\n",
    "newlist.size"
   ]
  },
  {
   "cell_type": "code",
   "execution_count": 13,
   "id": "1cbc9cc3-d625-4585-89a5-e9a5153677e8",
   "metadata": {},
   "outputs": [],
   "source": [
    "ob=np.array({1,2,3,4})"
   ]
  },
  {
   "cell_type": "code",
   "execution_count": 14,
   "id": "ad5949e8-f5cf-47ca-b8d0-4b4781235b30",
   "metadata": {},
   "outputs": [
    {
     "data": {
      "text/plain": [
       "array({1, 2, 3, 4}, dtype=object)"
      ]
     },
     "execution_count": 14,
     "metadata": {},
     "output_type": "execute_result"
    }
   ],
   "source": [
    "ob"
   ]
  },
  {
   "cell_type": "markdown",
   "id": "d2e2a4f6-7077-454f-9db6-5cbe0727ef89",
   "metadata": {},
   "source": [
    "**Intrinsic numpy array array creation objects**\n"
   ]
  },
  {
   "cell_type": "code",
   "execution_count": 15,
   "id": "16881255-a84e-40e2-a39b-2f5d39810680",
   "metadata": {},
   "outputs": [],
   "source": [
    "zeros = np.zeros((2, 5))"
   ]
  },
  {
   "cell_type": "code",
   "execution_count": 16,
   "id": "6fbc4d3e-c933-457a-a223-e9acdbb4b23a",
   "metadata": {},
   "outputs": [
    {
     "name": "stdout",
     "output_type": "stream",
     "text": [
      "This helps to craete rows and cols\n",
      "\n"
     ]
    },
    {
     "data": {
      "text/plain": [
       "array([[0., 0., 0., 0., 0.],\n",
       "       [0., 0., 0., 0., 0.]])"
      ]
     },
     "execution_count": 16,
     "metadata": {},
     "output_type": "execute_result"
    }
   ],
   "source": [
    "print(\"This helps to craete rows and cols\\n\")\n",
    "zeros"
   ]
  },
  {
   "cell_type": "code",
   "execution_count": 17,
   "id": "2a0bcd65-9a73-451c-b084-7dd70e3c3976",
   "metadata": {},
   "outputs": [
    {
     "data": {
      "text/plain": [
       "dtype('float64')"
      ]
     },
     "execution_count": 17,
     "metadata": {},
     "output_type": "execute_result"
    }
   ],
   "source": [
    "zeros.dtype"
   ]
  },
  {
   "cell_type": "code",
   "execution_count": 18,
   "id": "7b57d7b0-80ac-4324-a0b4-d7016a11ebf9",
   "metadata": {},
   "outputs": [
    {
     "data": {
      "text/plain": [
       "10"
      ]
     },
     "execution_count": 18,
     "metadata": {},
     "output_type": "execute_result"
    }
   ],
   "source": [
    "zeros.size"
   ]
  },
  {
   "cell_type": "code",
   "execution_count": 19,
   "id": "0420cc53-d37b-47ff-b8e2-ad7d72ca6a13",
   "metadata": {},
   "outputs": [],
   "source": [
    "rng= np.arange(10)"
   ]
  },
  {
   "cell_type": "code",
   "execution_count": 20,
   "id": "307dd17e-4205-49a6-91c1-64cfcb3fc34b",
   "metadata": {},
   "outputs": [
    {
     "name": "stdout",
     "output_type": "stream",
     "text": [
      "this is use for arange the matrix given value\n"
     ]
    },
    {
     "data": {
      "text/plain": [
       "array([0, 1, 2, 3, 4, 5, 6, 7, 8, 9])"
      ]
     },
     "execution_count": 20,
     "metadata": {},
     "output_type": "execute_result"
    }
   ],
   "source": [
    "print(\"this is use for arange the matrix given value\")\n",
    "rng"
   ]
  },
  {
   "cell_type": "code",
   "execution_count": 21,
   "id": "15e729cc-c8e0-4a54-b685-a44aa946e805",
   "metadata": {},
   "outputs": [
    {
     "data": {
      "text/plain": [
       "array([0, 1, 2, 3, 4, 5, 6, 7, 8, 9])"
      ]
     },
     "execution_count": 21,
     "metadata": {},
     "output_type": "execute_result"
    }
   ],
   "source": [
    "rng"
   ]
  },
  {
   "cell_type": "code",
   "execution_count": 22,
   "id": "51505cfa-f895-4a8c-a888-08f0d933df9d",
   "metadata": {},
   "outputs": [],
   "source": [
    "lspace = np.linspace(1,4,4)"
   ]
  },
  {
   "cell_type": "code",
   "execution_count": 23,
   "id": "b884999a-4290-4f3a-9af0-68a801ef27ea",
   "metadata": {},
   "outputs": [
    {
     "name": "stdout",
     "output_type": "stream",
     "text": [
      "this use to make matrix to create equally sapce between\n"
     ]
    },
    {
     "data": {
      "text/plain": [
       "array([1., 2., 3., 4.])"
      ]
     },
     "execution_count": 23,
     "metadata": {},
     "output_type": "execute_result"
    }
   ],
   "source": [
    "print(\"this use to make matrix to create equally sapce between\")\n",
    "lspace"
   ]
  },
  {
   "cell_type": "code",
   "execution_count": 24,
   "id": "ccf91975-eb8a-4357-bc95-511f6bffb541",
   "metadata": {},
   "outputs": [],
   "source": [
    "emp = np.empty((2,4))"
   ]
  },
  {
   "cell_type": "code",
   "execution_count": 25,
   "id": "5090e6cd-c3ea-4614-bb81-7fda84faaef4",
   "metadata": {},
   "outputs": [
    {
     "data": {
      "text/plain": [
       "array([[0., 0., 0., 0.],\n",
       "       [0., 0., 0., 0.]])"
      ]
     },
     "execution_count": 25,
     "metadata": {},
     "output_type": "execute_result"
    }
   ],
   "source": [
    "emp"
   ]
  },
  {
   "cell_type": "code",
   "execution_count": 26,
   "id": "7ba67edc-c715-463f-8a2f-c95e5fcf1c00",
   "metadata": {},
   "outputs": [],
   "source": [
    "emp_like = np.empty_like(rng)"
   ]
  },
  {
   "cell_type": "code",
   "execution_count": 27,
   "id": "88841f28-f2e9-4cca-b8bf-965723b31453",
   "metadata": {},
   "outputs": [
    {
     "data": {
      "text/plain": [
       "array([         0,          0, -413848672,        706, -413848032,\n",
       "              706, -413845952,        706,    7733359,        111])"
      ]
     },
     "execution_count": 27,
     "metadata": {},
     "output_type": "execute_result"
    }
   ],
   "source": [
    "emp_like"
   ]
  },
  {
   "cell_type": "code",
   "execution_count": 28,
   "id": "0e4db946-3dee-446d-b91f-e7a03118c048",
   "metadata": {},
   "outputs": [],
   "source": [
    "ide = np.identity(99)"
   ]
  },
  {
   "cell_type": "code",
   "execution_count": 29,
   "id": "43db3979-e02e-40d5-a57d-cb26c36cada7",
   "metadata": {},
   "outputs": [
    {
     "data": {
      "text/plain": [
       "array([[1., 0., 0., ..., 0., 0., 0.],\n",
       "       [0., 1., 0., ..., 0., 0., 0.],\n",
       "       [0., 0., 1., ..., 0., 0., 0.],\n",
       "       ...,\n",
       "       [0., 0., 0., ..., 1., 0., 0.],\n",
       "       [0., 0., 0., ..., 0., 1., 0.],\n",
       "       [0., 0., 0., ..., 0., 0., 1.]])"
      ]
     },
     "execution_count": 29,
     "metadata": {},
     "output_type": "execute_result"
    }
   ],
   "source": [
    "ide"
   ]
  },
  {
   "cell_type": "code",
   "execution_count": 30,
   "id": "12900641-9d31-4544-9a32-e8f0fde57ff8",
   "metadata": {},
   "outputs": [
    {
     "data": {
      "text/plain": [
       "(99, 99)"
      ]
     },
     "execution_count": 30,
     "metadata": {},
     "output_type": "execute_result"
    }
   ],
   "source": [
    "ide.shape"
   ]
  },
  {
   "cell_type": "code",
   "execution_count": 31,
   "id": "12271e2f-636a-4c08-90f5-81c5e3139d1e",
   "metadata": {},
   "outputs": [
    {
     "data": {
      "text/plain": [
       "array([[0, 1, 2, 3, 4],\n",
       "       [5, 6, 7, 8, 9]])"
      ]
     },
     "execution_count": 31,
     "metadata": {},
     "output_type": "execute_result"
    }
   ],
   "source": [
    "rng.reshape(2,5)"
   ]
  },
  {
   "cell_type": "code",
   "execution_count": 32,
   "id": "7e2573b7-1369-4307-87fc-1a6cf291c418",
   "metadata": {},
   "outputs": [
    {
     "name": "stdout",
     "output_type": "stream",
     "text": [
      "this attrabute use for make a one d array that's ravel\n"
     ]
    },
    {
     "data": {
      "text/plain": [
       "array([0, 1, 2, 3, 4, 5, 6, 7, 8, 9])"
      ]
     },
     "execution_count": 32,
     "metadata": {},
     "output_type": "execute_result"
    }
   ],
   "source": [
    "print(\"this attrabute use for make a one d array that's ravel\")\n",
    "rng.ravel()"
   ]
  },
  {
   "cell_type": "code",
   "execution_count": 33,
   "id": "e7130c0f-6c52-4af2-9442-96a41c0927e2",
   "metadata": {},
   "outputs": [
    {
     "data": {
      "text/plain": [
       "(10,)"
      ]
     },
     "execution_count": 33,
     "metadata": {},
     "output_type": "execute_result"
    }
   ],
   "source": [
    "rng.shape"
   ]
  },
  {
   "cell_type": "code",
   "execution_count": 34,
   "id": "a50d6445-cd08-4b8e-86d6-6c5e774f274e",
   "metadata": {},
   "outputs": [],
   "source": [
    "a = [[1,2,3], [4,5,6],[7,8,9]] "
   ]
  },
  {
   "cell_type": "code",
   "execution_count": 35,
   "id": "364741e6-7427-4672-bb76-b7092f1e5a4b",
   "metadata": {},
   "outputs": [],
   "source": [
    "ar = np.array(a)"
   ]
  },
  {
   "cell_type": "code",
   "execution_count": 36,
   "id": "078b073b-b072-44ef-af98-fd0c346cb200",
   "metadata": {},
   "outputs": [
    {
     "data": {
      "text/plain": [
       "array([[1, 2, 3],\n",
       "       [4, 5, 6],\n",
       "       [7, 8, 9]])"
      ]
     },
     "execution_count": 36,
     "metadata": {},
     "output_type": "execute_result"
    }
   ],
   "source": [
    "ar"
   ]
  },
  {
   "cell_type": "code",
   "execution_count": 37,
   "id": "20010105-c5f7-44ae-8541-795f36c6080d",
   "metadata": {},
   "outputs": [],
   "source": [
    "Sum=ar.sum(axis=0),ar.sum(axis=1)"
   ]
  },
  {
   "cell_type": "code",
   "execution_count": 38,
   "id": "8c120b8a-fdfb-4ce2-82f1-01343b2dee7f",
   "metadata": {},
   "outputs": [
    {
     "data": {
      "text/plain": [
       "(array([12, 15, 18]), array([ 6, 15, 24]))"
      ]
     },
     "execution_count": 38,
     "metadata": {},
     "output_type": "execute_result"
    }
   ],
   "source": [
    "Sum"
   ]
  },
  {
   "cell_type": "code",
   "execution_count": 39,
   "id": "4ea12ce3-9baf-4162-a6eb-8c0b5c6b54f4",
   "metadata": {},
   "outputs": [
    {
     "data": {
      "text/plain": [
       "array([[1, 4, 7],\n",
       "       [2, 5, 8],\n",
       "       [3, 6, 9]])"
      ]
     },
     "execution_count": 39,
     "metadata": {},
     "output_type": "execute_result"
    }
   ],
   "source": [
    "ar.T"
   ]
  },
  {
   "cell_type": "code",
   "execution_count": 40,
   "id": "7350f9a6-af12-429b-a63d-d0dee1731d05",
   "metadata": {},
   "outputs": [
    {
     "data": {
      "text/plain": [
       "<numpy.flatiter at 0x2c2e5fc5c30>"
      ]
     },
     "execution_count": 40,
     "metadata": {},
     "output_type": "execute_result"
    }
   ],
   "source": [
    "ar.flat"
   ]
  },
  {
   "cell_type": "code",
   "execution_count": 41,
   "id": "19b5c067-fd27-4dee-84ac-7d5a3f296389",
   "metadata": {},
   "outputs": [
    {
     "name": "stdout",
     "output_type": "stream",
     "text": [
      "1\n",
      "2\n",
      "3\n",
      "4\n",
      "5\n",
      "6\n",
      "7\n",
      "8\n",
      "9\n",
      "we can itrate with the loops\n"
     ]
    }
   ],
   "source": [
    "for items in ar.flat:\n",
    "    print(items)\n",
    "print(\"we can itrate with the loops\")"
   ]
  },
  {
   "cell_type": "code",
   "execution_count": 42,
   "id": "ede0563a-cee8-4d2b-adba-79a987300860",
   "metadata": {},
   "outputs": [
    {
     "name": "stdout",
     "output_type": "stream",
     "text": [
      "it is use to define the array's d\n"
     ]
    },
    {
     "data": {
      "text/plain": [
       "2"
      ]
     },
     "execution_count": 42,
     "metadata": {},
     "output_type": "execute_result"
    }
   ],
   "source": [
    "print(\"it is use to define the array's d\")\n",
    "ar.ndim"
   ]
  },
  {
   "cell_type": "code",
   "execution_count": 43,
   "id": "070882ba-5c57-4d70-8e77-572992ba9cdb",
   "metadata": {},
   "outputs": [
    {
     "name": "stdout",
     "output_type": "stream",
     "text": [
      "define for elemts\n"
     ]
    },
    {
     "data": {
      "text/plain": [
       "36"
      ]
     },
     "execution_count": 43,
     "metadata": {},
     "output_type": "execute_result"
    }
   ],
   "source": [
    "print(\"define for elemts\")\n",
    "ar.nbytes"
   ]
  },
  {
   "cell_type": "code",
   "execution_count": 44,
   "id": "28111dd7-1fb3-4bf0-a7ad-9f6d5dfbeb4a",
   "metadata": {},
   "outputs": [],
   "source": [
    "oned= np.array([1,2,3,4,555,6,7,8])"
   ]
  },
  {
   "cell_type": "code",
   "execution_count": 45,
   "id": "f9f1078a-28e5-4a5a-a9ec-1e101bf2ff34",
   "metadata": {},
   "outputs": [
    {
     "data": {
      "text/plain": [
       "4"
      ]
     },
     "execution_count": 45,
     "metadata": {},
     "output_type": "execute_result"
    }
   ],
   "source": [
    "oned.argmax()"
   ]
  },
  {
   "cell_type": "code",
   "execution_count": 46,
   "id": "1a895113-f3ef-4a36-826b-b572ace33a45",
   "metadata": {},
   "outputs": [
    {
     "data": {
      "text/plain": [
       "0"
      ]
     },
     "execution_count": 46,
     "metadata": {},
     "output_type": "execute_result"
    }
   ],
   "source": [
    "oned.argmin()"
   ]
  },
  {
   "cell_type": "code",
   "execution_count": 47,
   "id": "dbaea847-4913-42d4-a543-39260cb1a91b",
   "metadata": {},
   "outputs": [
    {
     "data": {
      "text/plain": [
       "array([0, 1, 2, 3, 5, 6, 7, 4], dtype=int64)"
      ]
     },
     "execution_count": 47,
     "metadata": {},
     "output_type": "execute_result"
    }
   ],
   "source": [
    "oned.argsort()"
   ]
  },
  {
   "cell_type": "code",
   "execution_count": 48,
   "id": "70d6d316-6a27-4fbf-9b1d-bfb0f4393b5a",
   "metadata": {},
   "outputs": [
    {
     "data": {
      "text/plain": [
       "array([[0, 1, 2],\n",
       "       [0, 1, 2],\n",
       "       [0, 1, 2]], dtype=int64)"
      ]
     },
     "execution_count": 48,
     "metadata": {},
     "output_type": "execute_result"
    }
   ],
   "source": [
    "ar.argsort()"
   ]
  },
  {
   "cell_type": "code",
   "execution_count": 49,
   "id": "e8c585b6-b964-458f-9fb3-55a88519fdc9",
   "metadata": {},
   "outputs": [
    {
     "data": {
      "text/plain": [
       "0"
      ]
     },
     "execution_count": 49,
     "metadata": {},
     "output_type": "execute_result"
    }
   ],
   "source": [
    "oned.argmin()"
   ]
  },
  {
   "cell_type": "code",
   "execution_count": 50,
   "id": "a6f06e71-8365-4b4f-9af9-74b8e76d8c67",
   "metadata": {},
   "outputs": [
    {
     "data": {
      "text/plain": [
       "array([2, 2, 2], dtype=int64)"
      ]
     },
     "execution_count": 50,
     "metadata": {},
     "output_type": "execute_result"
    }
   ],
   "source": [
    "ar.argmax(axis=0)"
   ]
  },
  {
   "cell_type": "code",
   "execution_count": 51,
   "id": "1058e9a1-18a7-4b4a-b2dc-d6dd3358b94e",
   "metadata": {},
   "outputs": [
    {
     "data": {
      "text/plain": [
       "array([[1, 2, 3],\n",
       "       [4, 5, 6],\n",
       "       [7, 8, 9]])"
      ]
     },
     "execution_count": 51,
     "metadata": {},
     "output_type": "execute_result"
    }
   ],
   "source": [
    "ar"
   ]
  },
  {
   "cell_type": "code",
   "execution_count": 52,
   "id": "1991bbbd-9aae-47c8-8b95-10ed43da6ab0",
   "metadata": {},
   "outputs": [
    {
     "data": {
      "text/plain": [
       "array([[0, 0, 0],\n",
       "       [1, 1, 1],\n",
       "       [2, 2, 2]], dtype=int64)"
      ]
     },
     "execution_count": 52,
     "metadata": {},
     "output_type": "execute_result"
    }
   ],
   "source": [
    "ar.argsort(axis=0)"
   ]
  },
  {
   "cell_type": "code",
   "execution_count": 53,
   "id": "0e84b942-f0a6-480b-9bcb-5102de0e80be",
   "metadata": {},
   "outputs": [
    {
     "data": {
      "text/plain": [
       "array([[0, 1, 2],\n",
       "       [0, 1, 2],\n",
       "       [0, 1, 2]], dtype=int64)"
      ]
     },
     "execution_count": 53,
     "metadata": {},
     "output_type": "execute_result"
    }
   ],
   "source": [
    "ar.argsort(axis=1)"
   ]
  },
  {
   "cell_type": "code",
   "execution_count": 54,
   "id": "2604b335-0f49-4c0a-80f8-6c95127a0882",
   "metadata": {},
   "outputs": [
    {
     "data": {
      "text/plain": [
       "array([2, 2, 2], dtype=int64)"
      ]
     },
     "execution_count": 54,
     "metadata": {},
     "output_type": "execute_result"
    }
   ],
   "source": [
    "ar.argmax(axis=0)"
   ]
  },
  {
   "cell_type": "code",
   "execution_count": 55,
   "id": "74326aa3-3548-40f9-be3c-7dd4e57a9787",
   "metadata": {},
   "outputs": [
    {
     "data": {
      "text/plain": [
       "array([0, 0, 0], dtype=int64)"
      ]
     },
     "execution_count": 55,
     "metadata": {},
     "output_type": "execute_result"
    }
   ],
   "source": [
    "ar.argmin(axis=0)"
   ]
  },
  {
   "cell_type": "code",
   "execution_count": 56,
   "id": "10ea7bc0-53e3-408b-9cff-3274bb91da45",
   "metadata": {},
   "outputs": [
    {
     "data": {
      "text/plain": [
       "array([2, 2, 2], dtype=int64)"
      ]
     },
     "execution_count": 56,
     "metadata": {},
     "output_type": "execute_result"
    }
   ],
   "source": [
    "ar.argmax(axis=1)"
   ]
  },
  {
   "cell_type": "code",
   "execution_count": 57,
   "id": "aa1abc5c-40db-4f3c-8874-5878445dd8a6",
   "metadata": {},
   "outputs": [
    {
     "data": {
      "text/plain": [
       "array([[1],\n",
       "       [2],\n",
       "       [3],\n",
       "       [4],\n",
       "       [5],\n",
       "       [6],\n",
       "       [7],\n",
       "       [8],\n",
       "       [9]])"
      ]
     },
     "execution_count": 57,
     "metadata": {},
     "output_type": "execute_result"
    }
   ],
   "source": [
    "ar.reshape((9,1))"
   ]
  },
  {
   "cell_type": "code",
   "execution_count": 58,
   "id": "fce39242-f3e8-4638-a413-32d2b2ac1204",
   "metadata": {},
   "outputs": [],
   "source": [
    "ar1 = np.array([[1, 2, 3],\n",
    "       [4, 5, 6],\n",
    "       [7, 8, 9]])"
   ]
  },
  {
   "cell_type": "code",
   "execution_count": 59,
   "id": "50dfdaa5-4ffc-4cc9-9ba1-b3c2eb32e589",
   "metadata": {},
   "outputs": [
    {
     "name": "stdout",
     "output_type": "stream",
     "text": [
      "numpy help in calulations easy\n"
     ]
    }
   ],
   "source": [
    "print(\"numpy help in calulations easy\")\n",
    "arr=ar1 * ar"
   ]
  },
  {
   "cell_type": "code",
   "execution_count": 60,
   "id": "67ab7f9d-eaee-4efb-ae60-386d62170ee3",
   "metadata": {},
   "outputs": [
    {
     "name": "stdout",
     "output_type": "stream",
     "text": [
      "sqrt is use for finding squreroot\n"
     ]
    },
    {
     "data": {
      "text/plain": [
       "array([[1.        , 1.41421356, 1.73205081],\n",
       "       [2.        , 2.23606798, 2.44948974],\n",
       "       [2.64575131, 2.82842712, 3.        ]])"
      ]
     },
     "execution_count": 60,
     "metadata": {},
     "output_type": "execute_result"
    }
   ],
   "source": [
    "print(\"sqrt is use for finding squreroot\")\n",
    "np.sqrt(ar)"
   ]
  },
  {
   "cell_type": "code",
   "execution_count": 61,
   "id": "d358bed1-0a91-4542-8471-d351e33a6f81",
   "metadata": {},
   "outputs": [
    {
     "data": {
      "text/plain": [
       "285"
      ]
     },
     "execution_count": 61,
     "metadata": {},
     "output_type": "execute_result"
    }
   ],
   "source": [
    "arr.sum()"
   ]
  },
  {
   "cell_type": "code",
   "execution_count": 62,
   "id": "495be07a-eafa-4f87-a2b3-8547a15e34cb",
   "metadata": {},
   "outputs": [
    {
     "data": {
      "text/plain": [
       "1"
      ]
     },
     "execution_count": 62,
     "metadata": {},
     "output_type": "execute_result"
    }
   ],
   "source": [
    "arr.min()"
   ]
  },
  {
   "cell_type": "code",
   "execution_count": 63,
   "id": "c345beb1-4941-4ce4-8ba5-8e0f9c970ca6",
   "metadata": {},
   "outputs": [
    {
     "data": {
      "text/plain": [
       "81"
      ]
     },
     "execution_count": 63,
     "metadata": {},
     "output_type": "execute_result"
    }
   ],
   "source": [
    "arr.max()"
   ]
  },
  {
   "cell_type": "code",
   "execution_count": 64,
   "id": "6a40ad63-5b93-4f2d-886c-7044498da5f6",
   "metadata": {},
   "outputs": [
    {
     "data": {
      "text/plain": [
       "(array([0, 0, 0, 1], dtype=int64), array([0, 1, 2, 0], dtype=int64))"
      ]
     },
     "execution_count": 64,
     "metadata": {},
     "output_type": "execute_result"
    }
   ],
   "source": [
    "np.where(ar<5)"
   ]
  },
  {
   "cell_type": "code",
   "execution_count": 65,
   "id": "669e7b81-b1ef-40e8-9157-c62ec0f4ead6",
   "metadata": {},
   "outputs": [
    {
     "name": "stdout",
     "output_type": "stream",
     "text": [
      "[[1 2 3]\n",
      " [4 5 6]\n",
      " [7 8 9]] [[1 2 3]\n",
      " [4 5 6]\n",
      " [7 8 9]] [[ 1  4  9]\n",
      " [16 25 36]\n",
      " [49 64 81]]\n"
     ]
    }
   ],
   "source": [
    "print(ar , ar1 , arr)"
   ]
  },
  {
   "cell_type": "code",
   "execution_count": 66,
   "id": "13c6ef1e-0ac5-4d6f-a12d-483aa63d515a",
   "metadata": {},
   "outputs": [
    {
     "data": {
      "text/plain": [
       "9"
      ]
     },
     "execution_count": 66,
     "metadata": {},
     "output_type": "execute_result"
    }
   ],
   "source": [
    "np.count_nonzero(ar)"
   ]
  },
  {
   "cell_type": "code",
   "execution_count": 67,
   "id": "12162c81-4ac0-45e0-9a45-3b89d95fdf9f",
   "metadata": {},
   "outputs": [
    {
     "data": {
      "text/plain": [
       "(array([0, 0, 0, 1, 1, 1, 2, 2, 2], dtype=int64),\n",
       " array([0, 1, 2, 0, 1, 2, 0, 1, 2], dtype=int64))"
      ]
     },
     "execution_count": 67,
     "metadata": {},
     "output_type": "execute_result"
    }
   ],
   "source": [
    "np.nonzero(ar)"
   ]
  },
  {
   "cell_type": "code",
   "execution_count": 68,
   "id": "8ba26b01-cca9-4eac-9fab-be3ef3346f29",
   "metadata": {},
   "outputs": [],
   "source": [
    "ar[1,2]= 0"
   ]
  },
  {
   "cell_type": "code",
   "execution_count": 69,
   "id": "d50da6cf-a76d-4a13-9dad-27b23f037951",
   "metadata": {},
   "outputs": [
    {
     "data": {
      "text/plain": [
       "array([[1, 2, 3],\n",
       "       [4, 5, 0],\n",
       "       [7, 8, 9]])"
      ]
     },
     "execution_count": 69,
     "metadata": {},
     "output_type": "execute_result"
    }
   ],
   "source": [
    "ar"
   ]
  },
  {
   "cell_type": "code",
   "execution_count": 70,
   "id": "0036e564-2677-4c21-b39e-dee5823b826d",
   "metadata": {},
   "outputs": [
    {
     "data": {
      "text/plain": [
       "(array([0, 0, 0, 1, 1, 2, 2, 2], dtype=int64),\n",
       " array([0, 1, 2, 0, 1, 0, 1, 2], dtype=int64))"
      ]
     },
     "execution_count": 70,
     "metadata": {},
     "output_type": "execute_result"
    }
   ],
   "source": [
    "np.nonzero(ar)"
   ]
  },
  {
   "cell_type": "code",
   "execution_count": 71,
   "id": "8480ae4a-ad07-47cc-86e2-8d40ff1f6334",
   "metadata": {},
   "outputs": [],
   "source": [
    "import sys"
   ]
  },
  {
   "cell_type": "code",
   "execution_count": 72,
   "id": "ab7aa98a-e745-4753-b776-a4ce0da75ee5",
   "metadata": {},
   "outputs": [],
   "source": [
    "py_ar= [1,2,3,4,5,6,7]"
   ]
  },
  {
   "cell_type": "code",
   "execution_count": 76,
   "id": "bf185924-57cc-4f51-a15b-f329657b79b7",
   "metadata": {},
   "outputs": [],
   "source": [
    "np_ar= np.array(py_ar)"
   ]
  },
  {
   "cell_type": "code",
   "execution_count": 78,
   "id": "382c1115-4fe7-4f92-8fce-647fdeceee3d",
   "metadata": {},
   "outputs": [
    {
     "data": {
      "text/plain": [
       "196"
      ]
     },
     "execution_count": 78,
     "metadata": {},
     "output_type": "execute_result"
    }
   ],
   "source": [
    "sys.getsizeof(1) * len(py_ar)"
   ]
  },
  {
   "cell_type": "code",
   "execution_count": 82,
   "id": "de6cd3cf-4ff5-40ae-b45d-186224995c33",
   "metadata": {},
   "outputs": [
    {
     "data": {
      "text/plain": [
       "28"
      ]
     },
     "execution_count": 82,
     "metadata": {},
     "output_type": "execute_result"
    }
   ],
   "source": [
    "np_ar.itemsize * np_ar.size"
   ]
  },
  {
   "cell_type": "code",
   "execution_count": null,
   "id": "8705e335-a67e-4034-9771-0fb0af112941",
   "metadata": {},
   "outputs": [],
   "source": []
  }
 ],
 "metadata": {
  "kernelspec": {
   "display_name": "Python 3 (ipykernel)",
   "language": "python",
   "name": "python3"
  },
  "language_info": {
   "codemirror_mode": {
    "name": "ipython",
    "version": 3
   },
   "file_extension": ".py",
   "mimetype": "text/x-python",
   "name": "python",
   "nbconvert_exporter": "python",
   "pygments_lexer": "ipython3",
   "version": "3.12.4"
  }
 },
 "nbformat": 4,
 "nbformat_minor": 5
}
